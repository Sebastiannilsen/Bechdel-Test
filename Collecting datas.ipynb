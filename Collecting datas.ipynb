{
 "cells": [
  {
   "cell_type": "code",
   "execution_count": 2,
   "id": "282d7de4",
   "metadata": {},
   "outputs": [],
   "source": [
    "from BechdelTest import BechdelTest\n",
    "import pandas as pd\n",
    "import requests"
   ]
  },
  {
   "cell_type": "code",
   "execution_count": null,
   "id": "34556e6a",
   "metadata": {},
   "outputs": [],
   "source": [
    "bt = BechdelTest()\n",
    "\n",
    "data = bt.get_available_move_titles()\n",
    "data.remove('A.I.')\n",
    "data.remove('Batman and Robin')\n",
    "data.remove('Batman Begins')\n",
    "data.remove('Batman Forever')\n",
    "data.remove('Batman Returns')\n",
    "\n",
    "tab = pd.DataFrame(data, columns=['Title'])\n",
    "tab = tab.set_index('Title')\n",
    "\n",
    "ratings = pd.DataFrame(columns=['Title', 'Year', 'Internet Movie Database', 'Rotten Tomatoes', 'Metacritic'])\n",
    "\n",
    "for movie_name in data:\n",
    "    url = \"http://www.omdbapi.com/?apikey=f286551b&t=\" + movie_name\n",
    "    result = requests.get(url).json()\n",
    "    if result['Response']=='True':\n",
    "        if (len(result['Ratings'])==3):\n",
    "            year = result['Year']\n",
    "            ratingMovie = result['Ratings']\n",
    "            sourceRate = []\n",
    "            movieRate = []\n",
    "            for i in range(len(ratingMovie)):\n",
    "                sourceRate.append(ratingMovie[i]['Source'])\n",
    "                movieRate.append(ratingMovie[i]['Value'])  \n",
    "            values = [[movie_name, year, movieRate[0], movieRate[1], movieRate[2]]]\n",
    "            rate = pd.DataFrame(values, columns=['Title', 'Year', 'Internet Movie Database', 'Rotten Tomatoes', 'Metacritic'])\n",
    "            ratings = ratings.append(rate)\n",
    "print(ratings)\n"
   ]
  },
  {
   "cell_type": "code",
   "execution_count": null,
   "id": "e5a5aab6",
   "metadata": {},
   "outputs": [],
   "source": [
    "ratings = ratings.set_index('Title')\n",
    "print(ratings)"
   ]
  },
  {
   "cell_type": "code",
   "execution_count": null,
   "id": "a1ebcfdd",
   "metadata": {},
   "outputs": [],
   "source": [
    "for movie in data:\n",
    "    score_bechdel = bt.get_bechdel_score(movie)\n",
    "    print(score_bechdel)"
   ]
  },
  {
   "cell_type": "code",
   "execution_count": 3,
   "id": "204c76e9",
   "metadata": {},
   "outputs": [
    {
     "name": "stdout",
     "output_type": "stream",
     "text": [
      "{'Response': 'False', 'Error': 'Movie not found!'}\n"
     ]
    }
   ],
   "source": [
    "url = \"http://www.omdbapi.com/?apikey=f286551b&t=\" + 'Addams Family, The'\n",
    "result = requests.get(url).json()\n",
    "print(result)"
   ]
  },
  {
   "cell_type": "code",
   "execution_count": null,
   "id": "51079320",
   "metadata": {},
   "outputs": [],
   "source": []
  }
 ],
 "metadata": {
  "kernelspec": {
   "display_name": "Python 3 (ipykernel)",
   "language": "python",
   "name": "python3"
  },
  "language_info": {
   "codemirror_mode": {
    "name": "ipython",
    "version": 3
   },
   "file_extension": ".py",
   "mimetype": "text/x-python",
   "name": "python",
   "nbconvert_exporter": "python",
   "pygments_lexer": "ipython3",
   "version": "3.9.7"
  }
 },
 "nbformat": 4,
 "nbformat_minor": 5
}
